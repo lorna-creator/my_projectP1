{
 "cells": [
  {
   "cell_type": "markdown",
   "metadata": {},
   "source": [
    "# Comprehensive Aircraft Risk Assessment for a startup business operations "
   ]
  },
  {
   "cell_type": "markdown",
   "metadata": {},
   "source": [
    "# Business Understanding \n",
    "\n",
    "### PROBLEM STATEMENT\n",
    "In order to diversify our business portfolio,we decided to expand into the aviation industry by acquiring aircrafts for both commercial and private operations.This expansion though an excellent idea presents significant challenges of a risky nature that come along with owning and operating aircraft.Since the company has little experience in the aviation sector,there is therefore a need to identify which aircraft models have the lowest risks.This will therefore help in ensuring that the company will be on the right track as it ventures into this market.\n",
    "\n",
    "The goal of this project is to conduct a comprehensive analysis of various aircrafts as well as evaluating the probable risks therefore determining which models are the most reliable to be used by the company.By leveraging data-driven insights, we aim to identify aircrafts that will minimize potential risks and maximize return on investment.\n",
    "The findings from this analysis will be translated into actionable insights that the head of the new aviation division can use to make informed decisions on aircraft acquisition. These insights will help the company make strategic choices about which aircrafts are best suited for commercial and private enterprises, ensuring a smooth and successful entry into the aviation industry while mitigating risks and optimizing profitability.\n",
    "\n",
    "This project will benefit stakeholders by providing data-driven insights that inform better decision-making regarding aircraft purchases, ultimately minimizing financial risks. By identifying low-risk aircraft, the company can enhance operational efficiency, ensure regulatory compliance, and improve customer satisfaction through reliable service. Additionally, these efforts will strengthen the company’s reputation in the aviation industry and position it for strategic growth, benefiting investors and shareholders with the potential for increased revenue and market share.\n",
    "    \n",
    "### GOALS\n",
    "Find the variables that make an airplane the safest and provide business recommendations based on these findings.\n",
    "    \n",
    "### OBJECTIVES\n",
    "  1.To identify the lowest-risk aircraft to be bought by the company as it ventures into the aviation business.\n",
    "  2.To minimize any financial losses and ensure that the business is profitable to the company.\n",
    "      \n",
    "### LIMITATION\n",
    " The company is relatively new to the aviation sector and therefore it lacks knowledge on how to navigate the market as well as the types of aircrafts that will be low risk to the company.\n",
    "     "
   ]
  },
  {
   "cell_type": "markdown",
   "metadata": {},
   "source": [
    "# Data Understanding #\n",
    "The data understanding for this business startup entails evaluating various aircraft models to identify those with the lowest risks for both commercial and private operations."
   ]
  },
  {
   "cell_type": "code",
   "execution_count": 1,
   "metadata": {},
   "outputs": [],
   "source": [
    "#Importing libraries to be used\n",
    "import pandas as pd\n",
    "import numpy as np\n",
    "import matplotlib.pyplot as plt\n",
    "import seaborn as sns\n",
    "%matplotlib inline\n"
   ]
  },
  {
   "cell_type": "code",
   "execution_count": 2,
   "metadata": {},
   "outputs": [
    {
     "data": {
      "text/html": [
       "<div>\n",
       "<style scoped>\n",
       "    .dataframe tbody tr th:only-of-type {\n",
       "        vertical-align: middle;\n",
       "    }\n",
       "\n",
       "    .dataframe tbody tr th {\n",
       "        vertical-align: top;\n",
       "    }\n",
       "\n",
       "    .dataframe thead th {\n",
       "        text-align: right;\n",
       "    }\n",
       "</style>\n",
       "<table border=\"1\" class=\"dataframe\">\n",
       "  <thead>\n",
       "    <tr style=\"text-align: right;\">\n",
       "      <th></th>\n",
       "      <th>Investigation.Type</th>\n",
       "      <th>Accident.Number</th>\n",
       "      <th>Event.Date</th>\n",
       "      <th>Location</th>\n",
       "      <th>Country</th>\n",
       "      <th>Latitude</th>\n",
       "      <th>Longitude</th>\n",
       "      <th>Airport.Code</th>\n",
       "      <th>Airport.Name</th>\n",
       "      <th>Injury.Severity</th>\n",
       "      <th>...</th>\n",
       "      <th>Purpose.of.flight</th>\n",
       "      <th>Air.carrier</th>\n",
       "      <th>Total.Fatal.Injuries</th>\n",
       "      <th>Total.Serious.Injuries</th>\n",
       "      <th>Total.Minor.Injuries</th>\n",
       "      <th>Total.Uninjured</th>\n",
       "      <th>Weather.Condition</th>\n",
       "      <th>Broad.phase.of.flight</th>\n",
       "      <th>Report.Status</th>\n",
       "      <th>Publication.Date</th>\n",
       "    </tr>\n",
       "    <tr>\n",
       "      <th>Event.Id</th>\n",
       "      <th></th>\n",
       "      <th></th>\n",
       "      <th></th>\n",
       "      <th></th>\n",
       "      <th></th>\n",
       "      <th></th>\n",
       "      <th></th>\n",
       "      <th></th>\n",
       "      <th></th>\n",
       "      <th></th>\n",
       "      <th></th>\n",
       "      <th></th>\n",
       "      <th></th>\n",
       "      <th></th>\n",
       "      <th></th>\n",
       "      <th></th>\n",
       "      <th></th>\n",
       "      <th></th>\n",
       "      <th></th>\n",
       "      <th></th>\n",
       "      <th></th>\n",
       "    </tr>\n",
       "  </thead>\n",
       "  <tbody>\n",
       "    <tr>\n",
       "      <th>20001218X45444</th>\n",
       "      <td>Accident</td>\n",
       "      <td>SEA87LA080</td>\n",
       "      <td>1948-10-24</td>\n",
       "      <td>MOOSE CREEK, ID</td>\n",
       "      <td>United States</td>\n",
       "      <td>NaN</td>\n",
       "      <td>NaN</td>\n",
       "      <td>NaN</td>\n",
       "      <td>NaN</td>\n",
       "      <td>Fatal(2)</td>\n",
       "      <td>...</td>\n",
       "      <td>Personal</td>\n",
       "      <td>NaN</td>\n",
       "      <td>2.0</td>\n",
       "      <td>0.0</td>\n",
       "      <td>0.0</td>\n",
       "      <td>0.0</td>\n",
       "      <td>UNK</td>\n",
       "      <td>Cruise</td>\n",
       "      <td>Probable Cause</td>\n",
       "      <td>NaN</td>\n",
       "    </tr>\n",
       "    <tr>\n",
       "      <th>20001218X45447</th>\n",
       "      <td>Accident</td>\n",
       "      <td>LAX94LA336</td>\n",
       "      <td>1962-07-19</td>\n",
       "      <td>BRIDGEPORT, CA</td>\n",
       "      <td>United States</td>\n",
       "      <td>NaN</td>\n",
       "      <td>NaN</td>\n",
       "      <td>NaN</td>\n",
       "      <td>NaN</td>\n",
       "      <td>Fatal(4)</td>\n",
       "      <td>...</td>\n",
       "      <td>Personal</td>\n",
       "      <td>NaN</td>\n",
       "      <td>4.0</td>\n",
       "      <td>0.0</td>\n",
       "      <td>0.0</td>\n",
       "      <td>0.0</td>\n",
       "      <td>UNK</td>\n",
       "      <td>Unknown</td>\n",
       "      <td>Probable Cause</td>\n",
       "      <td>19-09-1996</td>\n",
       "    </tr>\n",
       "    <tr>\n",
       "      <th>20061025X01555</th>\n",
       "      <td>Accident</td>\n",
       "      <td>NYC07LA005</td>\n",
       "      <td>1974-08-30</td>\n",
       "      <td>Saltville, VA</td>\n",
       "      <td>United States</td>\n",
       "      <td>36.922223</td>\n",
       "      <td>-81.878056</td>\n",
       "      <td>NaN</td>\n",
       "      <td>NaN</td>\n",
       "      <td>Fatal(3)</td>\n",
       "      <td>...</td>\n",
       "      <td>Personal</td>\n",
       "      <td>NaN</td>\n",
       "      <td>3.0</td>\n",
       "      <td>NaN</td>\n",
       "      <td>NaN</td>\n",
       "      <td>NaN</td>\n",
       "      <td>IMC</td>\n",
       "      <td>Cruise</td>\n",
       "      <td>Probable Cause</td>\n",
       "      <td>26-02-2007</td>\n",
       "    </tr>\n",
       "    <tr>\n",
       "      <th>20001218X45448</th>\n",
       "      <td>Accident</td>\n",
       "      <td>LAX96LA321</td>\n",
       "      <td>1977-06-19</td>\n",
       "      <td>EUREKA, CA</td>\n",
       "      <td>United States</td>\n",
       "      <td>NaN</td>\n",
       "      <td>NaN</td>\n",
       "      <td>NaN</td>\n",
       "      <td>NaN</td>\n",
       "      <td>Fatal(2)</td>\n",
       "      <td>...</td>\n",
       "      <td>Personal</td>\n",
       "      <td>NaN</td>\n",
       "      <td>2.0</td>\n",
       "      <td>0.0</td>\n",
       "      <td>0.0</td>\n",
       "      <td>0.0</td>\n",
       "      <td>IMC</td>\n",
       "      <td>Cruise</td>\n",
       "      <td>Probable Cause</td>\n",
       "      <td>12-09-2000</td>\n",
       "    </tr>\n",
       "    <tr>\n",
       "      <th>20041105X01764</th>\n",
       "      <td>Accident</td>\n",
       "      <td>CHI79FA064</td>\n",
       "      <td>1979-08-02</td>\n",
       "      <td>Canton, OH</td>\n",
       "      <td>United States</td>\n",
       "      <td>NaN</td>\n",
       "      <td>NaN</td>\n",
       "      <td>NaN</td>\n",
       "      <td>NaN</td>\n",
       "      <td>Fatal(1)</td>\n",
       "      <td>...</td>\n",
       "      <td>Personal</td>\n",
       "      <td>NaN</td>\n",
       "      <td>1.0</td>\n",
       "      <td>2.0</td>\n",
       "      <td>NaN</td>\n",
       "      <td>0.0</td>\n",
       "      <td>VMC</td>\n",
       "      <td>Approach</td>\n",
       "      <td>Probable Cause</td>\n",
       "      <td>16-04-1980</td>\n",
       "    </tr>\n",
       "  </tbody>\n",
       "</table>\n",
       "<p>5 rows × 30 columns</p>\n",
       "</div>"
      ],
      "text/plain": [
       "               Investigation.Type Accident.Number  Event.Date  \\\n",
       "Event.Id                                                        \n",
       "20001218X45444           Accident      SEA87LA080  1948-10-24   \n",
       "20001218X45447           Accident      LAX94LA336  1962-07-19   \n",
       "20061025X01555           Accident      NYC07LA005  1974-08-30   \n",
       "20001218X45448           Accident      LAX96LA321  1977-06-19   \n",
       "20041105X01764           Accident      CHI79FA064  1979-08-02   \n",
       "\n",
       "                       Location        Country   Latitude   Longitude  \\\n",
       "Event.Id                                                                \n",
       "20001218X45444  MOOSE CREEK, ID  United States        NaN         NaN   \n",
       "20001218X45447   BRIDGEPORT, CA  United States        NaN         NaN   \n",
       "20061025X01555    Saltville, VA  United States  36.922223  -81.878056   \n",
       "20001218X45448       EUREKA, CA  United States        NaN         NaN   \n",
       "20041105X01764       Canton, OH  United States        NaN         NaN   \n",
       "\n",
       "               Airport.Code Airport.Name Injury.Severity  ...  \\\n",
       "Event.Id                                                  ...   \n",
       "20001218X45444          NaN          NaN        Fatal(2)  ...   \n",
       "20001218X45447          NaN          NaN        Fatal(4)  ...   \n",
       "20061025X01555          NaN          NaN        Fatal(3)  ...   \n",
       "20001218X45448          NaN          NaN        Fatal(2)  ...   \n",
       "20041105X01764          NaN          NaN        Fatal(1)  ...   \n",
       "\n",
       "               Purpose.of.flight Air.carrier Total.Fatal.Injuries  \\\n",
       "Event.Id                                                            \n",
       "20001218X45444          Personal         NaN                  2.0   \n",
       "20001218X45447          Personal         NaN                  4.0   \n",
       "20061025X01555          Personal         NaN                  3.0   \n",
       "20001218X45448          Personal         NaN                  2.0   \n",
       "20041105X01764          Personal         NaN                  1.0   \n",
       "\n",
       "               Total.Serious.Injuries Total.Minor.Injuries Total.Uninjured  \\\n",
       "Event.Id                                                                     \n",
       "20001218X45444                    0.0                  0.0             0.0   \n",
       "20001218X45447                    0.0                  0.0             0.0   \n",
       "20061025X01555                    NaN                  NaN             NaN   \n",
       "20001218X45448                    0.0                  0.0             0.0   \n",
       "20041105X01764                    2.0                  NaN             0.0   \n",
       "\n",
       "                Weather.Condition Broad.phase.of.flight   Report.Status  \\\n",
       "Event.Id                                                                  \n",
       "20001218X45444                UNK                Cruise  Probable Cause   \n",
       "20001218X45447                UNK               Unknown  Probable Cause   \n",
       "20061025X01555                IMC                Cruise  Probable Cause   \n",
       "20001218X45448                IMC                Cruise  Probable Cause   \n",
       "20041105X01764                VMC              Approach  Probable Cause   \n",
       "\n",
       "               Publication.Date  \n",
       "Event.Id                         \n",
       "20001218X45444              NaN  \n",
       "20001218X45447       19-09-1996  \n",
       "20061025X01555       26-02-2007  \n",
       "20001218X45448       12-09-2000  \n",
       "20041105X01764       16-04-1980  \n",
       "\n",
       "[5 rows x 30 columns]"
      ]
     },
     "execution_count": 2,
     "metadata": {},
     "output_type": "execute_result"
    }
   ],
   "source": [
    "#reading the csv file into a pandas DataFrame\n",
    "df= pd.read_csv('aviation_data.csv',index_col=0,encoding='ISO-8859-1',low_memory=False)\n",
    "df.head()\n"
   ]
  },
  {
   "cell_type": "code",
   "execution_count": 3,
   "metadata": {},
   "outputs": [
    {
     "name": "stdout",
     "output_type": "stream",
     "text": [
      "<class 'pandas.core.frame.DataFrame'>\n",
      "Index: 88889 entries, 20001218X45444 to 20221230106513\n",
      "Data columns (total 30 columns):\n",
      " #   Column                  Non-Null Count  Dtype  \n",
      "---  ------                  --------------  -----  \n",
      " 0   Investigation.Type      88889 non-null  object \n",
      " 1   Accident.Number         88889 non-null  object \n",
      " 2   Event.Date              88889 non-null  object \n",
      " 3   Location                88837 non-null  object \n",
      " 4   Country                 88663 non-null  object \n",
      " 5   Latitude                34382 non-null  object \n",
      " 6   Longitude               34373 non-null  object \n",
      " 7   Airport.Code            50249 non-null  object \n",
      " 8   Airport.Name            52790 non-null  object \n",
      " 9   Injury.Severity         87889 non-null  object \n",
      " 10  Aircraft.damage         85695 non-null  object \n",
      " 11  Aircraft.Category       32287 non-null  object \n",
      " 12  Registration.Number     87572 non-null  object \n",
      " 13  Make                    88826 non-null  object \n",
      " 14  Model                   88797 non-null  object \n",
      " 15  Amateur.Built           88787 non-null  object \n",
      " 16  Number.of.Engines       82805 non-null  float64\n",
      " 17  Engine.Type             81812 non-null  object \n",
      " 18  FAR.Description         32023 non-null  object \n",
      " 19  Schedule                12582 non-null  object \n",
      " 20  Purpose.of.flight       82697 non-null  object \n",
      " 21  Air.carrier             16648 non-null  object \n",
      " 22  Total.Fatal.Injuries    77488 non-null  float64\n",
      " 23  Total.Serious.Injuries  76379 non-null  float64\n",
      " 24  Total.Minor.Injuries    76956 non-null  float64\n",
      " 25  Total.Uninjured         82977 non-null  float64\n",
      " 26  Weather.Condition       84397 non-null  object \n",
      " 27  Broad.phase.of.flight   61724 non-null  object \n",
      " 28  Report.Status           82508 non-null  object \n",
      " 29  Publication.Date        75118 non-null  object \n",
      "dtypes: float64(5), object(25)\n",
      "memory usage: 21.0+ MB\n"
     ]
    }
   ],
   "source": [
    "df.info()"
   ]
  },
  {
   "cell_type": "code",
   "execution_count": 4,
   "metadata": {},
   "outputs": [
    {
     "data": {
      "text/html": [
       "<div>\n",
       "<style scoped>\n",
       "    .dataframe tbody tr th:only-of-type {\n",
       "        vertical-align: middle;\n",
       "    }\n",
       "\n",
       "    .dataframe tbody tr th {\n",
       "        vertical-align: top;\n",
       "    }\n",
       "\n",
       "    .dataframe thead th {\n",
       "        text-align: right;\n",
       "    }\n",
       "</style>\n",
       "<table border=\"1\" class=\"dataframe\">\n",
       "  <thead>\n",
       "    <tr style=\"text-align: right;\">\n",
       "      <th></th>\n",
       "      <th>Number.of.Engines</th>\n",
       "      <th>Total.Fatal.Injuries</th>\n",
       "      <th>Total.Serious.Injuries</th>\n",
       "      <th>Total.Minor.Injuries</th>\n",
       "      <th>Total.Uninjured</th>\n",
       "    </tr>\n",
       "  </thead>\n",
       "  <tbody>\n",
       "    <tr>\n",
       "      <th>count</th>\n",
       "      <td>82805.000000</td>\n",
       "      <td>77488.000000</td>\n",
       "      <td>76379.000000</td>\n",
       "      <td>76956.000000</td>\n",
       "      <td>82977.000000</td>\n",
       "    </tr>\n",
       "    <tr>\n",
       "      <th>mean</th>\n",
       "      <td>1.146585</td>\n",
       "      <td>0.647855</td>\n",
       "      <td>0.279881</td>\n",
       "      <td>0.357061</td>\n",
       "      <td>5.325440</td>\n",
       "    </tr>\n",
       "    <tr>\n",
       "      <th>std</th>\n",
       "      <td>0.446510</td>\n",
       "      <td>5.485960</td>\n",
       "      <td>1.544084</td>\n",
       "      <td>2.235625</td>\n",
       "      <td>27.913634</td>\n",
       "    </tr>\n",
       "    <tr>\n",
       "      <th>min</th>\n",
       "      <td>0.000000</td>\n",
       "      <td>0.000000</td>\n",
       "      <td>0.000000</td>\n",
       "      <td>0.000000</td>\n",
       "      <td>0.000000</td>\n",
       "    </tr>\n",
       "    <tr>\n",
       "      <th>25%</th>\n",
       "      <td>1.000000</td>\n",
       "      <td>0.000000</td>\n",
       "      <td>0.000000</td>\n",
       "      <td>0.000000</td>\n",
       "      <td>0.000000</td>\n",
       "    </tr>\n",
       "    <tr>\n",
       "      <th>50%</th>\n",
       "      <td>1.000000</td>\n",
       "      <td>0.000000</td>\n",
       "      <td>0.000000</td>\n",
       "      <td>0.000000</td>\n",
       "      <td>1.000000</td>\n",
       "    </tr>\n",
       "    <tr>\n",
       "      <th>75%</th>\n",
       "      <td>1.000000</td>\n",
       "      <td>0.000000</td>\n",
       "      <td>0.000000</td>\n",
       "      <td>0.000000</td>\n",
       "      <td>2.000000</td>\n",
       "    </tr>\n",
       "    <tr>\n",
       "      <th>max</th>\n",
       "      <td>8.000000</td>\n",
       "      <td>349.000000</td>\n",
       "      <td>161.000000</td>\n",
       "      <td>380.000000</td>\n",
       "      <td>699.000000</td>\n",
       "    </tr>\n",
       "  </tbody>\n",
       "</table>\n",
       "</div>"
      ],
      "text/plain": [
       "       Number.of.Engines  Total.Fatal.Injuries  Total.Serious.Injuries  \\\n",
       "count       82805.000000          77488.000000            76379.000000   \n",
       "mean            1.146585              0.647855                0.279881   \n",
       "std             0.446510              5.485960                1.544084   \n",
       "min             0.000000              0.000000                0.000000   \n",
       "25%             1.000000              0.000000                0.000000   \n",
       "50%             1.000000              0.000000                0.000000   \n",
       "75%             1.000000              0.000000                0.000000   \n",
       "max             8.000000            349.000000              161.000000   \n",
       "\n",
       "       Total.Minor.Injuries  Total.Uninjured  \n",
       "count          76956.000000     82977.000000  \n",
       "mean               0.357061         5.325440  \n",
       "std                2.235625        27.913634  \n",
       "min                0.000000         0.000000  \n",
       "25%                0.000000         0.000000  \n",
       "50%                0.000000         1.000000  \n",
       "75%                0.000000         2.000000  \n",
       "max              380.000000       699.000000  "
      ]
     },
     "execution_count": 4,
     "metadata": {},
     "output_type": "execute_result"
    }
   ],
   "source": [
    "df.describe()"
   ]
  },
  {
   "cell_type": "markdown",
   "metadata": {},
   "source": [
    "## #Source\n",
    "\n",
    "The data to be used for this project was gathered from Kaggle.The dataset originates from the National Transportation Safety Board (NTSB) aviation accident database, which has been documenting civil aviation accidents and selected incidents in the United States and its territories since 1962. This database provides preliminary reports shortly after accidents occur, with factual information being updated as investigations progress. Once investigations are complete, preliminary reports are replaced with final reports that detail the accident and its probable causes. It’s important to note that full narrative descriptions may not be available for incidents prior to 1993, those under revision, or cases not primarily investigated by the NTSB. The goal of this dataset is to enhance the quality and safety of air travel by analyzing aviation incidents.\n",
    "    \n",
    "### Shape and Size\n",
    " \n",
    "### Data Types"
   ]
  },
  {
   "cell_type": "code",
   "execution_count": 5,
   "metadata": {},
   "outputs": [
    {
     "data": {
      "text/plain": [
       "(88889, 30)"
      ]
     },
     "execution_count": 5,
     "metadata": {},
     "output_type": "execute_result"
    }
   ],
   "source": [
    "df.shape"
   ]
  },
  {
   "cell_type": "code",
   "execution_count": 6,
   "metadata": {},
   "outputs": [
    {
     "data": {
      "text/plain": [
       "2666670"
      ]
     },
     "execution_count": 6,
     "metadata": {},
     "output_type": "execute_result"
    }
   ],
   "source": [
    "df.size"
   ]
  },
  {
   "cell_type": "code",
   "execution_count": 7,
   "metadata": {},
   "outputs": [
    {
     "data": {
      "text/plain": [
       "Investigation.Type         object\n",
       "Accident.Number            object\n",
       "Event.Date                 object\n",
       "Location                   object\n",
       "Country                    object\n",
       "Latitude                   object\n",
       "Longitude                  object\n",
       "Airport.Code               object\n",
       "Airport.Name               object\n",
       "Injury.Severity            object\n",
       "Aircraft.damage            object\n",
       "Aircraft.Category          object\n",
       "Registration.Number        object\n",
       "Make                       object\n",
       "Model                      object\n",
       "Amateur.Built              object\n",
       "Number.of.Engines         float64\n",
       "Engine.Type                object\n",
       "FAR.Description            object\n",
       "Schedule                   object\n",
       "Purpose.of.flight          object\n",
       "Air.carrier                object\n",
       "Total.Fatal.Injuries      float64\n",
       "Total.Serious.Injuries    float64\n",
       "Total.Minor.Injuries      float64\n",
       "Total.Uninjured           float64\n",
       "Weather.Condition          object\n",
       "Broad.phase.of.flight      object\n",
       "Report.Status              object\n",
       "Publication.Date           object\n",
       "dtype: object"
      ]
     },
     "execution_count": 7,
     "metadata": {},
     "output_type": "execute_result"
    }
   ],
   "source": [
    "df.dtypes"
   ]
  },
  {
   "cell_type": "code",
   "execution_count": 8,
   "metadata": {},
   "outputs": [
    {
     "data": {
      "text/plain": [
       "Index(['Investigation.Type', 'Accident.Number', 'Event.Date', 'Location',\n",
       "       'Country', 'Latitude', 'Longitude', 'Airport.Code', 'Airport.Name',\n",
       "       'Injury.Severity', 'Aircraft.damage', 'Aircraft.Category',\n",
       "       'Registration.Number', 'Make', 'Model', 'Amateur.Built',\n",
       "       'Number.of.Engines', 'Engine.Type', 'FAR.Description', 'Schedule',\n",
       "       'Purpose.of.flight', 'Air.carrier', 'Total.Fatal.Injuries',\n",
       "       'Total.Serious.Injuries', 'Total.Minor.Injuries', 'Total.Uninjured',\n",
       "       'Weather.Condition', 'Broad.phase.of.flight', 'Report.Status',\n",
       "       'Publication.Date'],\n",
       "      dtype='object')"
      ]
     },
     "execution_count": 8,
     "metadata": {},
     "output_type": "execute_result"
    }
   ],
   "source": [
    "df.keys()"
   ]
  },
  {
   "cell_type": "markdown",
   "metadata": {},
   "source": [
    "# DATA PREPARATION #\n",
    "\n",
    "# Data Cleaning #\n"
   ]
  },
  {
   "cell_type": "code",
   "execution_count": 9,
   "metadata": {},
   "outputs": [
    {
     "data": {
      "text/plain": [
       "{'Investigation.Type': array(['Accident', 'Incident'], dtype=object),\n",
       " 'Accident.Number': array(['SEA87LA080', 'LAX94LA336', 'NYC07LA005', ..., 'WPR23LA075',\n",
       "        'WPR23LA076', 'ERA23LA097'], dtype=object),\n",
       " 'Event.Date': array(['1948-10-24', '1962-07-19', '1974-08-30', ..., '2022-12-22',\n",
       "        '2022-12-26', '2022-12-29'], dtype=object),\n",
       " 'Location': array(['MOOSE CREEK, ID', 'BRIDGEPORT, CA', 'Saltville, VA', ...,\n",
       "        'San Manual, AZ', 'Auburn Hills, MI', 'Brasnorte, '], dtype=object),\n",
       " 'Country': array(['United States', nan, 'GULF OF MEXICO', 'Puerto Rico',\n",
       "        'ATLANTIC OCEAN', 'HIGH ISLAND', 'Bahamas', 'MISSING', 'Pakistan',\n",
       "        'Angola', 'Germany', 'Korea, Republic Of', 'Martinique',\n",
       "        'American Samoa', 'PACIFIC OCEAN', 'Canada', 'Bolivia', 'Mexico',\n",
       "        'Dominica', 'Netherlands Antilles', 'Iceland', 'Greece', 'Guam',\n",
       "        'Australia', 'CARIBBEAN SEA', 'West Indies', 'Japan',\n",
       "        'Philippines', 'Venezuela', 'Bermuda', 'San Juan Islands',\n",
       "        'Colombia', 'El Salvador', 'United Kingdom',\n",
       "        'British Virgin Islands', 'Netherlands', 'Costa Rica',\n",
       "        'Mozambique', 'Jamaica', 'Panama', 'Guyana', 'Norway', 'Hong Kong',\n",
       "        'Portugal', 'Malaysia', 'Turks And Caicos Islands',\n",
       "        'Northern Mariana Islands', 'Dominican Republic', 'Suriname',\n",
       "        'Honduras', 'Congo', 'Belize', 'Guatemala', 'Anguilla', 'France',\n",
       "        'St Vincent And The Grenadines', 'Haiti', 'Montserrat',\n",
       "        'Papua New Guinea', 'Cayman Islands', 'Sweden', 'Taiwan',\n",
       "        'Senegal', 'Barbados', 'BLOCK 651A', 'Brazil', 'Mauritius',\n",
       "        'Argentina', 'Kenya', 'Ecuador', 'Aruba', 'Saudi Arabia', 'Cuba',\n",
       "        'Italy', 'French Guiana', 'Denmark', 'Sudan', 'Spain',\n",
       "        'Federated States Of Micronesia', 'St Lucia', 'Switzerland',\n",
       "        'Central African Republic', 'Algeria', 'Turkey', 'Nicaragua',\n",
       "        'Marshall Islands', 'Trinidad And Tobago', 'Poland', 'Belarus',\n",
       "        'Austria', 'Malta', 'Cameroon', 'Solomon Islands', 'Zambia',\n",
       "        'Peru', 'Croatia', 'Fiji', 'South Africa', 'India', 'Ethiopia',\n",
       "        'Ireland', 'Chile', 'Antigua And Barbuda', 'Uganda', 'China',\n",
       "        'Cambodia', 'Paraguay', 'Thailand', 'Belgium', 'Gambia', 'Uruguay',\n",
       "        'Tanzania', 'Mali', 'Indonesia', 'Bahrain', 'Kazakhstan', 'Egypt',\n",
       "        'Russia', 'Cyprus', \"Cote D'ivoire\", 'Nigeria', 'Greenland',\n",
       "        'Vietnam', 'New Zealand', 'Singapore', 'Ghana', 'Gabon', 'Nepal',\n",
       "        'Slovakia', 'Finland', 'Liberia', 'Romania', 'Maldives',\n",
       "        'Antarctica', 'Zimbabwe', 'Botswana', 'Isle of Man', 'Latvia',\n",
       "        'Niger', 'French Polynesia', 'Guadeloupe', 'Ivory Coast',\n",
       "        'Tunisia', 'Eritrea', 'Gibraltar', 'Namibia', 'Czech Republic',\n",
       "        'Benin', 'Bosnia And Herzegovina', 'Israel', 'Estonia',\n",
       "        'St Kitts And Nevis', 'Sierra Leone', 'Corsica', 'Scotland',\n",
       "        'Reunion', 'United Arab Emirates', 'Afghanistan', 'Ukraine',\n",
       "        'Hungary', 'Bangladesh', 'Morocco', 'Iraq', 'Jordan', 'Qatar',\n",
       "        'Madagascar', 'Malawi', 'Unknown', 'Central Africa', 'South Sudan',\n",
       "        'Saint Barthelemy', 'Micronesia', 'South Korea', 'Kyrgyzstan',\n",
       "        'Turks And Caicos', 'Eswatini', 'Tokelau', 'Sint Maarten', 'Macao',\n",
       "        'Seychelles', 'Rwanda', 'Palau', 'Luxembourg', 'Lebanon',\n",
       "        'Bosnia and Herzegovina', 'Libya', 'Guinea',\n",
       "        'Saint Vincent and the Grenadines', 'UN', 'Iran', 'Lithuania',\n",
       "        'Malampa', 'Antigua and Barbuda', 'AY', 'Chad', 'Cayenne',\n",
       "        'New Caledonia', 'Yemen', 'Slovenia', 'Nauru', 'Niue', 'Bulgaria',\n",
       "        'Republic of North Macedonia', 'Virgin Islands', 'Somalia',\n",
       "        'Pacific Ocean', 'Obyan', 'Mauritania', 'Albania', 'Wolseley',\n",
       "        'Wallis and Futuna', 'Saint Pierre and Miquelon', 'Georgia',\n",
       "        \"Côte d'Ivoire\", 'South Korean', 'Serbia', 'MU', 'Guernsey',\n",
       "        'Great Britain', 'Turks and Caicos Islands'], dtype=object),\n",
       " 'Latitude': array([nan, '36.922223', '42.445277', ..., '321814N', '039101N',\n",
       "        '373829N'], dtype=object),\n",
       " 'Longitude': array([nan, '-81.878056', '-70.758333', ..., '1114536W', '0835218W',\n",
       "        '0121410W'], dtype=object),\n",
       " 'Airport.Code': array([nan, 'N58', 'JAX', ..., 'SKMD', 'OMAA', 'EIKH'], dtype=object),\n",
       " 'Airport.Name': array([nan, 'BLACKBURN AG STRIP', 'HANOVER', ...,\n",
       "        'HAWKINSVILLE-PULASKI COUNTY', 'Lewiston Municipal Airport',\n",
       "        'WICHITA DWIGHT D EISENHOWER NT'], dtype=object),\n",
       " 'Injury.Severity': array(['Fatal(2)', 'Fatal(4)', 'Fatal(3)', 'Fatal(1)', 'Non-Fatal',\n",
       "        'Incident', 'Fatal(8)', 'Fatal(78)', 'Fatal(7)', 'Fatal(6)',\n",
       "        'Fatal(5)', 'Fatal(153)', 'Fatal(12)', 'Fatal(14)', 'Fatal(23)',\n",
       "        'Fatal(10)', 'Fatal(11)', 'Fatal(9)', 'Fatal(17)', 'Fatal(13)',\n",
       "        'Fatal(29)', 'Fatal(70)', 'Unavailable', 'Fatal(135)', 'Fatal(31)',\n",
       "        'Fatal(256)', 'Fatal(25)', 'Fatal(82)', 'Fatal(156)', 'Fatal(28)',\n",
       "        'Fatal(18)', 'Fatal(43)', 'Fatal(15)', 'Fatal(270)', 'Fatal(144)',\n",
       "        'Fatal(174)', 'Fatal(111)', 'Fatal(131)', 'Fatal(20)', 'Fatal(73)',\n",
       "        'Fatal(27)', 'Fatal(34)', 'Fatal(87)', 'Fatal(30)', 'Fatal(16)',\n",
       "        'Fatal(47)', 'Fatal(56)', 'Fatal(37)', 'Fatal(132)', 'Fatal(68)',\n",
       "        'Fatal(54)', 'Fatal(52)', 'Fatal(65)', 'Fatal(72)', 'Fatal(160)',\n",
       "        'Fatal(189)', 'Fatal(123)', 'Fatal(33)', 'Fatal(110)',\n",
       "        'Fatal(230)', 'Fatal(97)', 'Fatal(349)', 'Fatal(125)', 'Fatal(35)',\n",
       "        'Fatal(228)', 'Fatal(75)', 'Fatal(104)', 'Fatal(229)', 'Fatal(80)',\n",
       "        'Fatal(217)', 'Fatal(169)', 'Fatal(88)', 'Fatal(19)', 'Fatal(60)',\n",
       "        'Fatal(113)', 'Fatal(143)', 'Fatal(83)', 'Fatal(24)', 'Fatal(44)',\n",
       "        'Fatal(64)', 'Fatal(92)', 'Fatal(118)', 'Fatal(265)', 'Fatal(26)',\n",
       "        'Fatal(138)', 'Fatal(206)', 'Fatal(71)', 'Fatal(21)', 'Fatal(46)',\n",
       "        'Fatal(102)', 'Fatal(115)', 'Fatal(141)', 'Fatal(55)',\n",
       "        'Fatal(121)', 'Fatal(45)', 'Fatal(145)', 'Fatal(117)',\n",
       "        'Fatal(107)', 'Fatal(124)', 'Fatal(49)', 'Fatal(154)', 'Fatal(96)',\n",
       "        'Fatal(114)', 'Fatal(199)', 'Fatal(89)', 'Fatal(57)', 'Fatal', nan,\n",
       "        'Minor', 'Serious'], dtype=object),\n",
       " 'Aircraft.damage': array(['Destroyed', 'Substantial', 'Minor', nan, 'Unknown'], dtype=object),\n",
       " 'Aircraft.Category': array([nan, 'Airplane', 'Helicopter', 'Glider', 'Balloon', 'Gyrocraft',\n",
       "        'Ultralight', 'Unknown', 'Blimp', 'Powered-Lift', 'Weight-Shift',\n",
       "        'Powered Parachute', 'Rocket', 'WSFT', 'UNK', 'ULTR'], dtype=object),\n",
       " 'Registration.Number': array(['NC6404', 'N5069P', 'N5142R', ..., 'N749PJ', 'N210CU', 'N9026P'],\n",
       "       dtype=object),\n",
       " 'Make': array(['Stinson', 'Piper', 'Cessna', ..., 'JAMES R DERNOVSEK',\n",
       "        'ORLICAN S R O', 'ROYSE RALPH L'], dtype=object),\n",
       " 'Model': array(['108-3', 'PA24-180', '172M', ..., 'ROTORWAY EXEC 162-F',\n",
       "        'KITFOX S5', 'M-8 EAGLE'], dtype=object),\n",
       " 'Amateur.Built': array(['No', 'Yes', nan], dtype=object),\n",
       " 'Number.of.Engines': array([ 1., nan,  2.,  0.,  3.,  4.,  8.,  6.]),\n",
       " 'Engine.Type': array(['Reciprocating', nan, 'Turbo Fan', 'Turbo Shaft', 'Unknown',\n",
       "        'Turbo Prop', 'Turbo Jet', 'None', 'Electric', 'Hybrid Rocket',\n",
       "        'Geared Turbofan', 'LR', 'NONE', 'UNK'], dtype=object),\n",
       " 'FAR.Description': array([nan, 'Part 129: Foreign', 'Part 91: General Aviation',\n",
       "        'Part 135: Air Taxi & Commuter', 'Part 125: 20+ Pax,6000+ lbs',\n",
       "        'Part 121: Air Carrier', 'Part 137: Agricultural',\n",
       "        'Part 133: Rotorcraft Ext. Load', 'Unknown',\n",
       "        'Part 91F: Special Flt Ops.', 'Non-U.S., Non-Commercial',\n",
       "        'Public Aircraft', 'Non-U.S., Commercial', 'Public Use',\n",
       "        'Armed Forces', 'Part 91 Subpart K: Fractional', '091', 'NUSC',\n",
       "        '135', 'NUSN', '121', '137', '129', '133', '091K', 'UNK', 'PUBU',\n",
       "        'ARMF', '103', '125', '437', '107'], dtype=object),\n",
       " 'Schedule': array([nan, 'SCHD', 'NSCH', 'UNK'], dtype=object),\n",
       " 'Purpose.of.flight': array(['Personal', nan, 'Business', 'Instructional', 'Unknown', 'Ferry',\n",
       "        'Executive/corporate', 'Aerial Observation', 'Aerial Application',\n",
       "        'Public Aircraft', 'Skydiving', 'Other Work Use', 'Positioning',\n",
       "        'Flight Test', 'Air Race/show', 'Air Drop',\n",
       "        'Public Aircraft - Federal', 'Glider Tow',\n",
       "        'Public Aircraft - Local', 'External Load',\n",
       "        'Public Aircraft - State', 'Banner Tow', 'Firefighting',\n",
       "        'Air Race show', 'PUBS', 'ASHO', 'PUBL'], dtype=object),\n",
       " 'Air.carrier': array([nan, 'Air Canada', 'Rocky Mountain Helicopters, In', ...,\n",
       "        'SKY WEST AVIATION INC TRUSTEE', 'GERBER RICHARD E',\n",
       "        'MC CESSNA 210N LLC'], dtype=object),\n",
       " 'Total.Fatal.Injuries': array([  2.,   4.,   3.,   1.,  nan,   0.,   8.,  78.,   7.,   6.,   5.,\n",
       "        153.,  12.,  14.,  23.,  10.,  11.,   9.,  17.,  13.,  29.,  70.,\n",
       "        135.,  31., 256.,  25.,  82., 156.,  28.,  18.,  43.,  15., 270.,\n",
       "        144., 174., 111., 131.,  20.,  73.,  27.,  34.,  87.,  30.,  16.,\n",
       "         47.,  56.,  37., 132.,  68.,  54.,  52.,  65.,  72., 160., 189.,\n",
       "        123.,  33., 110., 230.,  97., 349., 125.,  35., 228.,  75., 104.,\n",
       "        229.,  80., 217., 169.,  88.,  19.,  60., 113., 143.,  83.,  24.,\n",
       "         44.,  64.,  92., 118., 265.,  26., 138., 206.,  71.,  21.,  46.,\n",
       "        102., 115., 141.,  55., 121.,  45., 145., 117., 107., 124.,  49.,\n",
       "        154.,  96., 114., 199.,  89.,  57., 152.,  90., 103., 158., 157.,\n",
       "         42.,  77., 127.,  50., 239., 295.,  58., 162., 150., 224.,  62.,\n",
       "         66., 112., 188.,  41., 176.]),\n",
       " 'Total.Serious.Injuries': array([  0.,  nan,   2.,   1.,   6.,   4.,   5.,  10.,   3.,   8.,   9.,\n",
       "          7.,  15.,  17.,  28.,  26.,  47.,  14.,  81.,  13., 106.,  60.,\n",
       "         16.,  21.,  50.,  44.,  18.,  12.,  45.,  39.,  43.,  11.,  25.,\n",
       "         59.,  23.,  55.,  63.,  88.,  41.,  34.,  53.,  33.,  67.,  35.,\n",
       "         20., 137.,  19.,  27., 125., 161.,  22.]),\n",
       " 'Total.Minor.Injuries': array([  0.,  nan,   1.,   3.,   2.,   4.,  24.,   6.,   5.,  25.,  17.,\n",
       "         19.,  33.,  14.,   8.,  13.,  15.,   7.,   9.,  16.,  20.,  11.,\n",
       "         12.,  10.,  38.,  42.,  29.,  62.,  28.,  31.,  39.,  32.,  18.,\n",
       "         27.,  57.,  50.,  23., 125.,  45.,  26.,  36.,  69.,  21.,  96.,\n",
       "         30.,  22.,  58., 171.,  65.,  71., 200.,  68.,  47., 380.,  35.,\n",
       "         43.,  84.,  40.]),\n",
       " 'Total.Uninjured': array([  0.,  nan,  44.,   2.,   1.,   3.,   6.,   4., 149.,  12., 182.,\n",
       "        154.,   5.,  10.,   7., 119.,  36.,  51.,  16.,  83.,   9.,  68.,\n",
       "         30.,  20.,  18.,   8., 108.,  11., 152.,  21.,  48.,  56., 113.,\n",
       "        129., 109.,  29.,  13.,  84.,  74., 142., 102., 393., 128., 112.,\n",
       "         17.,  65.,  67., 136.,  23., 116.,  22.,  57.,  58.,  73., 203.,\n",
       "         31., 201., 412., 159.,  39., 186., 588.,  82.,  95., 146., 190.,\n",
       "        245., 172.,  52.,  25.,  59., 131., 151., 180., 150.,  86.,  19.,\n",
       "        133., 240.,  15., 145., 125., 440.,  77., 122., 205., 289., 110.,\n",
       "         79.,  66.,  87.,  78.,  49., 104., 250.,  33., 138., 100.,  53.,\n",
       "        158., 127., 160., 260.,  47.,  38., 165., 495.,  81.,  41.,  14.,\n",
       "         72.,  98., 263., 188., 239.,  27., 105., 111., 212., 157.,  46.,\n",
       "        121.,  75.,  71.,  45.,  91.,  99.,  85.,  96.,  50.,  93., 276.,\n",
       "        365., 371., 200., 103., 189.,  37., 107.,  61.,  26., 271., 130.,\n",
       "         89., 439., 132., 219.,  43., 238., 195., 118., 175.,  32., 507.,\n",
       "        421.,  90., 225., 269., 169., 236., 224., 134., 106., 331., 140.,\n",
       "         94., 192., 161., 270.,  69., 436., 213., 233., 115.,  42., 167.,\n",
       "        137., 114., 148., 222.,  92., 375.,  76., 171., 173., 246., 234.,\n",
       "        123., 220., 202., 408., 279., 363., 135., 528., 334., 178., 147.,\n",
       "        126.,  62.,  70.,  97., 228., 226.,  64., 290., 206., 297., 349.,\n",
       "        208., 144.,  54.,  24., 258., 304., 274., 286.,  55., 199., 221.,\n",
       "         80., 272., 211., 262., 441., 194., 309., 185., 261., 241., 383.,\n",
       "        177., 259., 244., 254., 156.,  40.,  34., 247., 176.,  63.,  28.,\n",
       "        218., 282., 320., 204., 124., 215., 298., 120., 280., 179., 315.,\n",
       "        461., 153.,  60., 308.,  88., 361., 277., 191., 235., 187., 101.,\n",
       "        162.,  35., 197., 193., 164., 370., 387., 163., 139., 267., 357.,\n",
       "        339., 288., 231., 300., 255., 306., 443., 385., 248., 459., 141.,\n",
       "        414., 229., 166., 209., 184., 168., 170., 198., 299., 573., 223.,\n",
       "        265., 322., 196., 117., 253., 399., 360., 252., 217., 155., 183.,\n",
       "        227., 249., 329., 340., 699., 325., 287., 143., 243., 230., 386.,\n",
       "        181., 257., 283., 404., 319., 450., 356., 216., 174., 558., 214.,\n",
       "        448., 324., 338., 273., 232., 401., 312., 368., 501., 237., 307.,\n",
       "        296., 291., 403., 314., 285., 311., 293., 352., 332., 384., 275.,\n",
       "        210., 268., 326., 454., 278., 576., 380., 394., 362., 397., 359.,\n",
       "        264., 333., 367., 302., 348., 351., 358., 295., 321., 521., 301.,\n",
       "        294., 378., 207., 406., 251., 455.]),\n",
       " 'Weather.Condition': array(['UNK', 'IMC', 'VMC', nan, 'Unk'], dtype=object),\n",
       " 'Broad.phase.of.flight': array(['Cruise', 'Unknown', 'Approach', 'Climb', 'Takeoff', 'Landing',\n",
       "        'Taxi', 'Descent', 'Maneuvering', 'Standing', 'Go-around', 'Other',\n",
       "        nan], dtype=object),\n",
       " 'Report.Status': array(['Probable Cause', 'Factual', 'Foreign', ...,\n",
       "        'The pilot did not ensure adequate clearance from construction vehicles during taxi.',\n",
       "        'The pilot\\x92s failure to secure the magneto switch before attempting to hand rotate the engine which resulted in an inadvertent engine start, a runaway airplane, and subsequent impact with parked airplanes. Contributing to the accident was the failure to properly secure the airplane with chocks.',\n",
       "        'The pilot\\x92s loss of control due to a wind gust during landing.'],\n",
       "       dtype=object),\n",
       " 'Publication.Date': array([nan, '19-09-1996', '26-02-2007', ..., '22-12-2022', '23-12-2022',\n",
       "        '29-12-2022'], dtype=object)}"
      ]
     },
     "execution_count": 9,
     "metadata": {},
     "output_type": "execute_result"
    }
   ],
   "source": [
    "#unique_columns = [col for col in df.columns if df[col].is_unique]\n",
    "#unique_columns\n",
    "unique_values_all = {col: df[col].unique() for col in df.columns}\n",
    "unique_values_all"
   ]
  },
  {
   "cell_type": "markdown",
   "metadata": {},
   "source": [
    "### Identifying Missing Data"
   ]
  },
  {
   "cell_type": "code",
   "execution_count": 10,
   "metadata": {},
   "outputs": [
    {
     "data": {
      "text/plain": [
       "Investigation.Type            0\n",
       "Accident.Number               0\n",
       "Event.Date                    0\n",
       "Location                     52\n",
       "Country                     226\n",
       "Latitude                  54507\n",
       "Longitude                 54516\n",
       "Airport.Code              38640\n",
       "Airport.Name              36099\n",
       "Injury.Severity            1000\n",
       "Aircraft.damage            3194\n",
       "Aircraft.Category         56602\n",
       "Registration.Number        1317\n",
       "Make                         63\n",
       "Model                        92\n",
       "Amateur.Built               102\n",
       "Number.of.Engines          6084\n",
       "Engine.Type                7077\n",
       "FAR.Description           56866\n",
       "Schedule                  76307\n",
       "Purpose.of.flight          6192\n",
       "Air.carrier               72241\n",
       "Total.Fatal.Injuries      11401\n",
       "Total.Serious.Injuries    12510\n",
       "Total.Minor.Injuries      11933\n",
       "Total.Uninjured            5912\n",
       "Weather.Condition          4492\n",
       "Broad.phase.of.flight     27165\n",
       "Report.Status              6381\n",
       "Publication.Date          13771\n",
       "dtype: int64"
      ]
     },
     "execution_count": 10,
     "metadata": {},
     "output_type": "execute_result"
    }
   ],
   "source": [
    "# is there any missing data\n",
    "df.isna().sum()"
   ]
  },
  {
   "cell_type": "code",
   "execution_count": 11,
   "metadata": {},
   "outputs": [
    {
     "data": {
      "text/plain": [
       "Investigation.Type         0.000000\n",
       "Accident.Number            0.000000\n",
       "Event.Date                 0.000000\n",
       "Location                   0.058500\n",
       "Country                    0.254250\n",
       "Latitude                  61.320298\n",
       "Longitude                 61.330423\n",
       "Airport.Code              43.469946\n",
       "Airport.Name              40.611324\n",
       "Injury.Severity            1.124999\n",
       "Aircraft.damage            3.593246\n",
       "Aircraft.Category         63.677170\n",
       "Registration.Number        1.481623\n",
       "Make                       0.070875\n",
       "Model                      0.103500\n",
       "Amateur.Built              0.114750\n",
       "Number.of.Engines          6.844491\n",
       "Engine.Type                7.961615\n",
       "FAR.Description           63.974170\n",
       "Schedule                  85.845268\n",
       "Purpose.of.flight          6.965991\n",
       "Air.carrier               81.271023\n",
       "Total.Fatal.Injuries      12.826109\n",
       "Total.Serious.Injuries    14.073732\n",
       "Total.Minor.Injuries      13.424608\n",
       "Total.Uninjured            6.650992\n",
       "Weather.Condition          5.053494\n",
       "Broad.phase.of.flight     30.560587\n",
       "Report.Status              7.178616\n",
       "Publication.Date          15.492356\n",
       "dtype: float64"
      ]
     },
     "execution_count": 11,
     "metadata": {},
     "output_type": "execute_result"
    }
   ],
   "source": [
    "#get the percentage of missing data\n",
    "df.isna().sum()/len(df)* 100\n"
   ]
  },
  {
   "cell_type": "code",
   "execution_count": 12,
   "metadata": {},
   "outputs": [
    {
     "data": {
      "text/plain": [
       "['Latitude',\n",
       " 'Longitude',\n",
       " 'Airport.Code',\n",
       " 'Airport.Name',\n",
       " 'Aircraft.Category',\n",
       " 'FAR.Description',\n",
       " 'Schedule',\n",
       " 'Air.carrier']"
      ]
     },
     "execution_count": 12,
     "metadata": {},
     "output_type": "execute_result"
    }
   ],
   "source": [
    "#handling missing data\n",
    "# dropping data that has too many missing values preferably more than 40%\n",
    "dropped_columns=[]\n",
    "for x in df:\n",
    "    if (df[x].isna().sum() / len(df[x])) * 100 > 40:\n",
    "        dropped_columns.append(x)\n",
    "dropped_columns\n",
    "\n"
   ]
  },
  {
   "cell_type": "code",
   "execution_count": 13,
   "metadata": {},
   "outputs": [
    {
     "data": {
      "text/plain": [
       "Index(['Investigation.Type', 'Accident.Number', 'Event.Date', 'Location',\n",
       "       'Country', 'Injury.Severity', 'Aircraft.damage', 'Registration.Number',\n",
       "       'Make', 'Model', 'Amateur.Built', 'Number.of.Engines', 'Engine.Type',\n",
       "       'Purpose.of.flight', 'Total.Fatal.Injuries', 'Total.Serious.Injuries',\n",
       "       'Total.Minor.Injuries', 'Total.Uninjured', 'Weather.Condition',\n",
       "       'Broad.phase.of.flight', 'Report.Status', 'Publication.Date'],\n",
       "      dtype='object')"
      ]
     },
     "execution_count": 13,
     "metadata": {},
     "output_type": "execute_result"
    }
   ],
   "source": [
    "df= df.drop(columns=dropped_columns)\n",
    "df.columns\n"
   ]
  },
  {
   "cell_type": "code",
   "execution_count": 14,
   "metadata": {},
   "outputs": [
    {
     "data": {
      "text/plain": [
       "Investigation.Type         0.000000\n",
       "Accident.Number            0.000000\n",
       "Event.Date                 0.000000\n",
       "Location                   0.058500\n",
       "Country                    0.254250\n",
       "Injury.Severity            1.124999\n",
       "Aircraft.damage            3.593246\n",
       "Registration.Number        1.481623\n",
       "Make                       0.070875\n",
       "Model                      0.103500\n",
       "Amateur.Built              0.114750\n",
       "Number.of.Engines          6.844491\n",
       "Engine.Type                7.961615\n",
       "Purpose.of.flight          6.965991\n",
       "Total.Fatal.Injuries      12.826109\n",
       "Total.Serious.Injuries    14.073732\n",
       "Total.Minor.Injuries      13.424608\n",
       "Total.Uninjured            6.650992\n",
       "Weather.Condition          5.053494\n",
       "Broad.phase.of.flight     30.560587\n",
       "Report.Status              7.178616\n",
       "Publication.Date          15.492356\n",
       "dtype: float64"
      ]
     },
     "execution_count": 14,
     "metadata": {},
     "output_type": "execute_result"
    }
   ],
   "source": [
    "df.isna().sum()/len(df)* 100\n"
   ]
  },
  {
   "cell_type": "markdown",
   "metadata": {},
   "source": [
    "### Handling Missing Values"
   ]
  },
  {
   "cell_type": "code",
   "execution_count": 15,
   "metadata": {},
   "outputs": [],
   "source": [
    "#imputing numerical data\n",
    "df['Total.Fatal.Injuries'].fillna(df['Total.Fatal.Injuries'].median(),inplace=True)\n",
    "df['Total.Minor.Injuries'].fillna(df['Total.Minor.Injuries'].median(),inplace=True)\n",
    "df['Total.Serious.Injuries'].fillna(df['Total.Serious.Injuries'].median(),inplace=True)\n",
    "df['Total.Uninjured'].fillna(df['Total.Uninjured'].median(),inplace=True)\n",
    "df['Number.of.Engines'].fillna(df['Number.of.Engines'].mode(),inplace=True)\n",
    "\n",
    "\n"
   ]
  },
  {
   "cell_type": "code",
   "execution_count": 16,
   "metadata": {},
   "outputs": [],
   "source": [
    "#Handling remaining missing values by filling them with suitable data\n",
    "df=df.fillna(method='ffill').fillna(method='bfill')"
   ]
  },
  {
   "cell_type": "code",
   "execution_count": 17,
   "metadata": {},
   "outputs": [
    {
     "data": {
      "text/plain": [
       "Investigation.Type        0\n",
       "Accident.Number           0\n",
       "Event.Date                0\n",
       "Location                  0\n",
       "Country                   0\n",
       "Injury.Severity           0\n",
       "Aircraft.damage           0\n",
       "Registration.Number       0\n",
       "Make                      0\n",
       "Model                     0\n",
       "Amateur.Built             0\n",
       "Number.of.Engines         0\n",
       "Engine.Type               0\n",
       "Purpose.of.flight         0\n",
       "Total.Fatal.Injuries      0\n",
       "Total.Serious.Injuries    0\n",
       "Total.Minor.Injuries      0\n",
       "Total.Uninjured           0\n",
       "Weather.Condition         0\n",
       "Broad.phase.of.flight     0\n",
       "Report.Status             0\n",
       "Publication.Date          0\n",
       "dtype: int64"
      ]
     },
     "execution_count": 17,
     "metadata": {},
     "output_type": "execute_result"
    }
   ],
   "source": [
    "df.isna().sum()"
   ]
  },
  {
   "cell_type": "code",
   "execution_count": 18,
   "metadata": {},
   "outputs": [
    {
     "data": {
      "text/plain": [
       "Cessna                      22232\n",
       "Piper                       12034\n",
       "CESSNA                       4930\n",
       "Beech                        4332\n",
       "PIPER                        2843\n",
       "                            ...  \n",
       "Light Aero,inc. (ashley)        1\n",
       "WYDER ROBERT G                  1\n",
       "Arctic Aircraft Company         1\n",
       "Kokes                           1\n",
       "TRAXLER JOHN N                  1\n",
       "Name: Make, Length: 8237, dtype: int64"
      ]
     },
     "execution_count": 18,
     "metadata": {},
     "output_type": "execute_result"
    }
   ],
   "source": [
    "#count the occurrences of each unique value in the 'Make' column of the DataFrame \n",
    "df['Make'].value_counts()"
   ]
  },
  {
   "cell_type": "markdown",
   "metadata": {},
   "source": []
  },
  {
   "cell_type": "code",
   "execution_count": 19,
   "metadata": {},
   "outputs": [
    {
     "data": {
      "text/plain": [
       "cessna               27162\n",
       "piper                14877\n",
       "beech                 5375\n",
       "boeing                2749\n",
       "bell                  2724\n",
       "                     ...  \n",
       "fehlner-shelton          1\n",
       "lidster                  1\n",
       "lonnie w. ratliff        1\n",
       "mckeehan james f         1\n",
       "lowther                  1\n",
       "Name: Make, Length: 7587, dtype: int64"
      ]
     },
     "execution_count": 19,
     "metadata": {},
     "output_type": "execute_result"
    }
   ],
   "source": [
    "df['Make'] = df['Make'].str.lower()\n",
    "df['Make'].value_counts()"
   ]
  },
  {
   "cell_type": "code",
   "execution_count": 20,
   "metadata": {},
   "outputs": [
    {
     "data": {
      "text/plain": [
       "Weather.Condition  Model          Aircraft.damage\n",
       "VMC                152            Substantial        1939\n",
       "                   172            Substantial        1483\n",
       "                   172N           Substantial         889\n",
       "                   PA-28-140      Substantial         678\n",
       "                   150            Substantial         674\n",
       "                                                     ... \n",
       "                   Glasair II     Substantial           1\n",
       "                                  Destroyed             1\n",
       "                   Glasair I TD   Destroyed             1\n",
       "                   Glasair FT II  Substantial           1\n",
       "IMC                -737-222       Destroyed             1\n",
       "Length: 18509, dtype: int64"
      ]
     },
     "execution_count": 20,
     "metadata": {},
     "output_type": "execute_result"
    }
   ],
   "source": [
    "df[['Weather.Condition','Model','Aircraft.damage']].value_counts()"
   ]
  },
  {
   "cell_type": "code",
   "execution_count": 21,
   "metadata": {},
   "outputs": [
    {
     "data": {
      "text/plain": [
       "Event.Id\n",
       "20001218X45444    Reciprocating\n",
       "20001218X45447    Reciprocating\n",
       "20061025X01555    Reciprocating\n",
       "20001218X45448    Reciprocating\n",
       "20041105X01764    Reciprocating\n",
       "                      ...      \n",
       "20221227106491    Reciprocating\n",
       "20221227106494    Reciprocating\n",
       "20221227106497    Reciprocating\n",
       "20221227106498    Reciprocating\n",
       "20221230106513    Reciprocating\n",
       "Name: Engine.Type, Length: 88889, dtype: object"
      ]
     },
     "execution_count": 21,
     "metadata": {},
     "output_type": "execute_result"
    }
   ],
   "source": [
    "df['Engine.Type']"
   ]
  },
  {
   "cell_type": "code",
   "execution_count": 22,
   "metadata": {},
   "outputs": [
    {
     "name": "stdout",
     "output_type": "stream",
     "text": [
      "<class 'pandas.core.frame.DataFrame'>\n",
      "Index: 88889 entries, 20001218X45444 to 20221230106513\n",
      "Data columns (total 22 columns):\n",
      " #   Column                  Non-Null Count  Dtype  \n",
      "---  ------                  --------------  -----  \n",
      " 0   Investigation.Type      88889 non-null  object \n",
      " 1   Accident.Number         88889 non-null  object \n",
      " 2   Event.Date              88889 non-null  object \n",
      " 3   Location                88889 non-null  object \n",
      " 4   Country                 88889 non-null  object \n",
      " 5   Injury.Severity         88889 non-null  object \n",
      " 6   Aircraft.damage         88889 non-null  object \n",
      " 7   Registration.Number     88889 non-null  object \n",
      " 8   Make                    88889 non-null  object \n",
      " 9   Model                   88889 non-null  object \n",
      " 10  Amateur.Built           88889 non-null  object \n",
      " 11  Number.of.Engines       88889 non-null  float64\n",
      " 12  Engine.Type             88889 non-null  object \n",
      " 13  Purpose.of.flight       88889 non-null  object \n",
      " 14  Total.Fatal.Injuries    88889 non-null  float64\n",
      " 15  Total.Serious.Injuries  88889 non-null  float64\n",
      " 16  Total.Minor.Injuries    88889 non-null  float64\n",
      " 17  Total.Uninjured         88889 non-null  float64\n",
      " 18  Weather.Condition       88889 non-null  object \n",
      " 19  Broad.phase.of.flight   88889 non-null  object \n",
      " 20  Report.Status           88889 non-null  object \n",
      " 21  Publication.Date        88889 non-null  object \n",
      "dtypes: float64(5), object(17)\n",
      "memory usage: 18.1+ MB\n"
     ]
    }
   ],
   "source": [
    "df.info(['Engine.Type'])"
   ]
  },
  {
   "cell_type": "code",
   "execution_count": 23,
   "metadata": {},
   "outputs": [
    {
     "data": {
      "text/plain": [
       "Reciprocating      75277\n",
       "Turbo Shaft         4293\n",
       "Turbo Prop          3708\n",
       "Turbo Fan           2732\n",
       "Unknown             2062\n",
       "Turbo Jet            750\n",
       "None                  25\n",
       "Geared Turbofan       18\n",
       "Electric              16\n",
       "NONE                   3\n",
       "UNK                    2\n",
       "LR                     2\n",
       "Hybrid Rocket          1\n",
       "Name: Engine.Type, dtype: int64"
      ]
     },
     "execution_count": 23,
     "metadata": {},
     "output_type": "execute_result"
    }
   ],
   "source": [
    "df['Engine.Type'].value_counts()"
   ]
  },
  {
   "cell_type": "code",
   "execution_count": 24,
   "metadata": {},
   "outputs": [
    {
     "data": {
      "text/plain": [
       "1.0    74599\n",
       "2.0    12013\n",
       "0.0     1301\n",
       "3.0      510\n",
       "4.0      462\n",
       "8.0        3\n",
       "6.0        1\n",
       "Name: Number.of.Engines, dtype: int64"
      ]
     },
     "execution_count": 24,
     "metadata": {},
     "output_type": "execute_result"
    }
   ],
   "source": [
    "df['Number.of.Engines'].value_counts()"
   ]
  },
  {
   "cell_type": "code",
   "execution_count": 25,
   "metadata": {},
   "outputs": [
    {
     "data": {
      "text/plain": [
       "Substantial    66154\n",
       "Destroyed      19631\n",
       "Minor           2976\n",
       "Unknown          128\n",
       "Name: Aircraft.damage, dtype: int64"
      ]
     },
     "execution_count": 25,
     "metadata": {},
     "output_type": "execute_result"
    }
   ],
   "source": [
    "df['Aircraft.damage'].value_counts()"
   ]
  },
  {
   "cell_type": "code",
   "execution_count": 26,
   "metadata": {},
   "outputs": [
    {
     "data": {
      "text/plain": [
       "Personal                     53396\n",
       "Instructional                11502\n",
       "Unknown                       6930\n",
       "Aerial Application            4977\n",
       "Business                      4262\n",
       "Positioning                   1823\n",
       "Other Work Use                1386\n",
       "Aerial Observation             874\n",
       "Ferry                          861\n",
       "Public Aircraft                754\n",
       "Executive/corporate            592\n",
       "Flight Test                    475\n",
       "Skydiving                      211\n",
       "External Load                  143\n",
       "Public Aircraft - Federal      122\n",
       "Air Race show                  113\n",
       "Banner Tow                     109\n",
       "Public Aircraft - Local         84\n",
       "Public Aircraft - State         69\n",
       "Glider Tow                      64\n",
       "Air Race/show                   62\n",
       "Firefighting                    48\n",
       "Air Drop                        14\n",
       "ASHO                             9\n",
       "PUBS                             8\n",
       "PUBL                             1\n",
       "Name: Purpose.of.flight, dtype: int64"
      ]
     },
     "execution_count": 26,
     "metadata": {},
     "output_type": "execute_result"
    }
   ],
   "source": [
    "df['Purpose.of.flight'].value_counts()"
   ]
  },
  {
   "cell_type": "code",
   "execution_count": 27,
   "metadata": {},
   "outputs": [
    {
     "data": {
      "text/plain": [
       "VMC    81501\n",
       "IMC     6184\n",
       "UNK      856\n",
       "Unk      348\n",
       "Name: Weather.Condition, dtype: int64"
      ]
     },
     "execution_count": 27,
     "metadata": {},
     "output_type": "execute_result"
    }
   ],
   "source": [
    "df['Weather.Condition'].value_counts()"
   ]
  },
  {
   "cell_type": "code",
   "execution_count": 28,
   "metadata": {},
   "outputs": [
    {
     "data": {
      "text/plain": [
       "25-09-2020    17096\n",
       "26-09-2020     1805\n",
       "03-11-2020     1166\n",
       "10-03-1988     1011\n",
       "06-02-1995      848\n",
       "              ...  \n",
       "29-12-1999        1\n",
       "18-08-2004        1\n",
       "04-11-1999        1\n",
       "24-10-2005        1\n",
       "09-11-2007        1\n",
       "Name: Publication.Date, Length: 2924, dtype: int64"
      ]
     },
     "execution_count": 28,
     "metadata": {},
     "output_type": "execute_result"
    }
   ],
   "source": [
    "df['Publication.Date'].value_counts()\n"
   ]
  },
  {
   "cell_type": "code",
   "execution_count": 29,
   "metadata": {},
   "outputs": [
    {
     "name": "stdout",
     "output_type": "stream",
     "text": [
      "<class 'pandas.core.frame.DataFrame'>\n",
      "Index: 88889 entries, 20001218X45444 to 20221230106513\n",
      "Data columns (total 22 columns):\n",
      " #   Column                  Non-Null Count  Dtype  \n",
      "---  ------                  --------------  -----  \n",
      " 0   Investigation.Type      88889 non-null  object \n",
      " 1   Accident.Number         88889 non-null  object \n",
      " 2   Event.Date              88889 non-null  object \n",
      " 3   Location                88889 non-null  object \n",
      " 4   Country                 88889 non-null  object \n",
      " 5   Injury.Severity         88889 non-null  object \n",
      " 6   Aircraft.damage         88889 non-null  object \n",
      " 7   Registration.Number     88889 non-null  object \n",
      " 8   Make                    88889 non-null  object \n",
      " 9   Model                   88889 non-null  object \n",
      " 10  Amateur.Built           88889 non-null  object \n",
      " 11  Number.of.Engines       88889 non-null  float64\n",
      " 12  Engine.Type             88889 non-null  object \n",
      " 13  Purpose.of.flight       88889 non-null  object \n",
      " 14  Total.Fatal.Injuries    88889 non-null  float64\n",
      " 15  Total.Serious.Injuries  88889 non-null  float64\n",
      " 16  Total.Minor.Injuries    88889 non-null  float64\n",
      " 17  Total.Uninjured         88889 non-null  float64\n",
      " 18  Weather.Condition       88889 non-null  object \n",
      " 19  Broad.phase.of.flight   88889 non-null  object \n",
      " 20  Report.Status           88889 non-null  object \n",
      " 21  Publication.Date        88889 non-null  object \n",
      "dtypes: float64(5), object(17)\n",
      "memory usage: 18.1+ MB\n"
     ]
    }
   ],
   "source": [
    "df.info(['Event.Date'])"
   ]
  },
  {
   "cell_type": "code",
   "execution_count": 30,
   "metadata": {},
   "outputs": [],
   "source": [
    "df['Injury.Severity'] = ['Fatal' if item[0:5]=='Fatal' else item for item in df['Injury.Severity']]"
   ]
  },
  {
   "cell_type": "code",
   "execution_count": 31,
   "metadata": {},
   "outputs": [
    {
     "data": {
      "text/plain": [
       "Non-Fatal      68124\n",
       "Fatal          18035\n",
       "Incident        2219\n",
       "Minor            233\n",
       "Serious          182\n",
       "Unavailable       96\n",
       "Name: Injury.Severity, dtype: int64"
      ]
     },
     "execution_count": 31,
     "metadata": {},
     "output_type": "execute_result"
    }
   ],
   "source": [
    "df['Injury.Severity'].value_counts()"
   ]
  },
  {
   "cell_type": "code",
   "execution_count": 32,
   "metadata": {},
   "outputs": [
    {
     "data": {
      "text/html": [
       "<div>\n",
       "<style scoped>\n",
       "    .dataframe tbody tr th:only-of-type {\n",
       "        vertical-align: middle;\n",
       "    }\n",
       "\n",
       "    .dataframe tbody tr th {\n",
       "        vertical-align: top;\n",
       "    }\n",
       "\n",
       "    .dataframe thead th {\n",
       "        text-align: right;\n",
       "    }\n",
       "</style>\n",
       "<table border=\"1\" class=\"dataframe\">\n",
       "  <thead>\n",
       "    <tr style=\"text-align: right;\">\n",
       "      <th></th>\n",
       "      <th>Injury.Severity</th>\n",
       "      <th>Total.Fatal.Injuries</th>\n",
       "      <th>Total.Serious.Injuries</th>\n",
       "      <th>Total.Minor.Injuries</th>\n",
       "      <th>Total.Uninjured</th>\n",
       "    </tr>\n",
       "    <tr>\n",
       "      <th>Event.Id</th>\n",
       "      <th></th>\n",
       "      <th></th>\n",
       "      <th></th>\n",
       "      <th></th>\n",
       "      <th></th>\n",
       "    </tr>\n",
       "  </thead>\n",
       "  <tbody>\n",
       "    <tr>\n",
       "      <th>20001218X45444</th>\n",
       "      <td>Fatal</td>\n",
       "      <td>2.0</td>\n",
       "      <td>0.0</td>\n",
       "      <td>0.0</td>\n",
       "      <td>0.0</td>\n",
       "    </tr>\n",
       "    <tr>\n",
       "      <th>20001218X45447</th>\n",
       "      <td>Fatal</td>\n",
       "      <td>4.0</td>\n",
       "      <td>0.0</td>\n",
       "      <td>0.0</td>\n",
       "      <td>0.0</td>\n",
       "    </tr>\n",
       "    <tr>\n",
       "      <th>20061025X01555</th>\n",
       "      <td>Fatal</td>\n",
       "      <td>3.0</td>\n",
       "      <td>0.0</td>\n",
       "      <td>0.0</td>\n",
       "      <td>1.0</td>\n",
       "    </tr>\n",
       "    <tr>\n",
       "      <th>20001218X45448</th>\n",
       "      <td>Fatal</td>\n",
       "      <td>2.0</td>\n",
       "      <td>0.0</td>\n",
       "      <td>0.0</td>\n",
       "      <td>0.0</td>\n",
       "    </tr>\n",
       "    <tr>\n",
       "      <th>20041105X01764</th>\n",
       "      <td>Fatal</td>\n",
       "      <td>1.0</td>\n",
       "      <td>2.0</td>\n",
       "      <td>0.0</td>\n",
       "      <td>0.0</td>\n",
       "    </tr>\n",
       "    <tr>\n",
       "      <th>...</th>\n",
       "      <td>...</td>\n",
       "      <td>...</td>\n",
       "      <td>...</td>\n",
       "      <td>...</td>\n",
       "      <td>...</td>\n",
       "    </tr>\n",
       "    <tr>\n",
       "      <th>20221227106491</th>\n",
       "      <td>Minor</td>\n",
       "      <td>0.0</td>\n",
       "      <td>1.0</td>\n",
       "      <td>0.0</td>\n",
       "      <td>0.0</td>\n",
       "    </tr>\n",
       "    <tr>\n",
       "      <th>20221227106494</th>\n",
       "      <td>Minor</td>\n",
       "      <td>0.0</td>\n",
       "      <td>0.0</td>\n",
       "      <td>0.0</td>\n",
       "      <td>0.0</td>\n",
       "    </tr>\n",
       "    <tr>\n",
       "      <th>20221227106497</th>\n",
       "      <td>Non-Fatal</td>\n",
       "      <td>0.0</td>\n",
       "      <td>0.0</td>\n",
       "      <td>0.0</td>\n",
       "      <td>1.0</td>\n",
       "    </tr>\n",
       "    <tr>\n",
       "      <th>20221227106498</th>\n",
       "      <td>Non-Fatal</td>\n",
       "      <td>0.0</td>\n",
       "      <td>0.0</td>\n",
       "      <td>0.0</td>\n",
       "      <td>0.0</td>\n",
       "    </tr>\n",
       "    <tr>\n",
       "      <th>20221230106513</th>\n",
       "      <td>Minor</td>\n",
       "      <td>0.0</td>\n",
       "      <td>1.0</td>\n",
       "      <td>0.0</td>\n",
       "      <td>1.0</td>\n",
       "    </tr>\n",
       "  </tbody>\n",
       "</table>\n",
       "<p>88889 rows × 5 columns</p>\n",
       "</div>"
      ],
      "text/plain": [
       "               Injury.Severity  Total.Fatal.Injuries  Total.Serious.Injuries  \\\n",
       "Event.Id                                                                       \n",
       "20001218X45444           Fatal                   2.0                     0.0   \n",
       "20001218X45447           Fatal                   4.0                     0.0   \n",
       "20061025X01555           Fatal                   3.0                     0.0   \n",
       "20001218X45448           Fatal                   2.0                     0.0   \n",
       "20041105X01764           Fatal                   1.0                     2.0   \n",
       "...                        ...                   ...                     ...   \n",
       "20221227106491           Minor                   0.0                     1.0   \n",
       "20221227106494           Minor                   0.0                     0.0   \n",
       "20221227106497       Non-Fatal                   0.0                     0.0   \n",
       "20221227106498       Non-Fatal                   0.0                     0.0   \n",
       "20221230106513           Minor                   0.0                     1.0   \n",
       "\n",
       "                Total.Minor.Injuries  Total.Uninjured  \n",
       "Event.Id                                               \n",
       "20001218X45444                   0.0              0.0  \n",
       "20001218X45447                   0.0              0.0  \n",
       "20061025X01555                   0.0              1.0  \n",
       "20001218X45448                   0.0              0.0  \n",
       "20041105X01764                   0.0              0.0  \n",
       "...                              ...              ...  \n",
       "20221227106491                   0.0              0.0  \n",
       "20221227106494                   0.0              0.0  \n",
       "20221227106497                   0.0              1.0  \n",
       "20221227106498                   0.0              0.0  \n",
       "20221230106513                   0.0              1.0  \n",
       "\n",
       "[88889 rows x 5 columns]"
      ]
     },
     "execution_count": 32,
     "metadata": {},
     "output_type": "execute_result"
    }
   ],
   "source": [
    "df[['Injury.Severity','Total.Fatal.Injuries','Total.Serious.Injuries', 'Total.Minor.Injuries', 'Total.Uninjured']]"
   ]
  },
  {
   "cell_type": "code",
   "execution_count": 33,
   "metadata": {},
   "outputs": [
    {
     "name": "stdout",
     "output_type": "stream",
     "text": [
      "<class 'pandas.core.frame.DataFrame'>\n",
      "Index: 88889 entries, 20001218X45444 to 20221230106513\n",
      "Data columns (total 22 columns):\n",
      " #   Column                  Non-Null Count  Dtype  \n",
      "---  ------                  --------------  -----  \n",
      " 0   Investigation.Type      88889 non-null  object \n",
      " 1   Accident.Number         88889 non-null  object \n",
      " 2   Event.Date              88889 non-null  object \n",
      " 3   Location                88889 non-null  object \n",
      " 4   Country                 88889 non-null  object \n",
      " 5   Injury.Severity         88889 non-null  object \n",
      " 6   Aircraft.damage         88889 non-null  object \n",
      " 7   Registration.Number     88889 non-null  object \n",
      " 8   Make                    88889 non-null  object \n",
      " 9   Model                   88889 non-null  object \n",
      " 10  Amateur.Built           88889 non-null  object \n",
      " 11  Number.of.Engines       88889 non-null  float64\n",
      " 12  Engine.Type             88889 non-null  object \n",
      " 13  Purpose.of.flight       88889 non-null  object \n",
      " 14  Total.Fatal.Injuries    88889 non-null  float64\n",
      " 15  Total.Serious.Injuries  88889 non-null  float64\n",
      " 16  Total.Minor.Injuries    88889 non-null  float64\n",
      " 17  Total.Uninjured         88889 non-null  float64\n",
      " 18  Weather.Condition       88889 non-null  object \n",
      " 19  Broad.phase.of.flight   88889 non-null  object \n",
      " 20  Report.Status           88889 non-null  object \n",
      " 21  Publication.Date        88889 non-null  object \n",
      "dtypes: float64(5), object(17)\n",
      "memory usage: 18.1+ MB\n"
     ]
    }
   ],
   "source": [
    "df.info()"
   ]
  },
  {
   "cell_type": "code",
   "execution_count": 34,
   "metadata": {},
   "outputs": [],
   "source": [
    "df.to_csv('df.csv', index=False)\n"
   ]
  },
  {
   "cell_type": "markdown",
   "metadata": {},
   "source": [
    "# Data Analysis #"
   ]
  },
  {
   "cell_type": "markdown",
   "metadata": {},
   "source": []
  },
  {
   "cell_type": "code",
   "execution_count": 37,
   "metadata": {},
   "outputs": [
    {
     "data": {
      "image/png": "[encoded data removed]",
      "text/plain": [
       "<Figure size 576x288 with 1 Axes>"
      ]
     },
     "metadata": {
      "needs_background": "light"
     },
     "output_type": "display_data"
    }
   ],
   "source": [
    "df['Event.Date'] = pd.to_datetime(df['Event.Date'], errors='coerce')\n",
    "\n",
    "# Filter for years from 1980 onwards\n",
    "df_filtered = df[df['Event.Date'].dt.year >= 1980]\n",
    "\n",
    "# Count accidents by year\n",
    "accidents_by_year = df_filtered['Event.Date'].dt.year.value_counts().sort_index()\n",
    "\n",
    "# Plot accidents over time\n",
    "plt.figure(figsize=(8, 4))\n",
    "plt.plot(accidents_by_year.index, accidents_by_year.values, linestyle='-', color='brown')\n",
    "plt.title('Aviation Accidents (1980 Onwards)')\n",
    "plt.xlabel('Year')\n",
    "plt.ylabel('Number of Accidents')\n",
    "plt.grid(True)\n",
    "plt.xticks(rotation=45)\n",
    "plt.show()"
   ]
  },
  {
   "cell_type": "code",
   "execution_count": 35,
   "metadata": {},
   "outputs": [
    {
     "data": {
      "image/png": "[encoded data removed]",
      "text/plain": [
       "<Figure size 864x1440 with 1 Axes>"
      ]
     },
     "metadata": {
      "needs_background": "light"
     },
     "output_type": "display_data"
    }
   ],
   "source": [
    "# Count accidents by 'Make'\n",
    "accident_counts = df.groupby('Make').size().reset_index(name='accident_count')\n",
    "\n",
    "# Sort and select the top 25 makes\n",
    "top_accidents = accident_counts.sort_values(by='accident_count', ascending=False).head(25)\n",
    "\n",
    "# Plotting the horizontal bar chart for the top aircraft makes with the most accidents\n",
    "plt.figure(figsize=(12, 20))\n",
    "sns.barplot(y='Make', x='accident_count', data=top_accidents, palette='plasma', orient='h')\n",
    "\n",
    "# Adding data labels\n",
    "for index, value in enumerate(top_accidents['accident_count']):\n",
    "    plt.text(value, index, str(value), va='center', ha='left', fontsize=10)\n",
    "\n",
    "plt.title('Aircraft Makes with the Highest Number of Accidents')\n",
    "plt.xlabel('Number of Accidents')\n",
    "plt.ylabel('Aircraft Make')\n",
    "plt.show()"
   ]
  },
  {
   "cell_type": "code",
   "execution_count": null,
   "metadata": {},
   "outputs": [],
   "source": []
  },
  {
   "cell_type": "code",
   "execution_count": 36,
   "metadata": {},
   "outputs": [
    {
     "data": {
      "image/png": "[encoded data removed]",
      "text/plain": [
       "<Figure size 576x576 with 1 Axes>"
      ]
     },
     "metadata": {},
     "output_type": "display_data"
    }
   ],
   "source": [
    "engine_counts = df[df['Number.of.Engines'].isin([1, 2])].groupby('Number.of.Engines').size()\n",
    "\n",
    "# Plot the pie chart\n",
    "plt.figure(figsize=(8, 8))\n",
    "colors = sns.color_palette('plasma', len(engine_counts))\n",
    "\n",
    "# Include autopct to get percentage labels\n",
    "wedges, texts, autotexts = plt.pie(engine_counts, \n",
    "                                    labels=engine_counts.index,  # Use the index for labels\n",
    "                                    startangle=90, \n",
    "                                    colors=colors,\n",
    "                                    autopct='%1.1f%%')  # Show percentage on the pie chart\n",
    "\n",
    "plt.title('Number of Accidents by Number of Engines')\n",
    "plt.axis('equal')  # Make the pie chart circular\n",
    "\n",
    "# Add a legend to label what the colors represent\n",
    "plt.legend(wedges, \n",
    "           engine_counts.index, \n",
    "           title='Number of Engines', \n",
    "           loc='center left', \n",
    "           bbox_to_anchor=(1, 0, 0.5, 1))  # Position the legend outside the pie chart\n",
    "\n",
    "# Show the plot\n",
    "plt.show()"
   ]
  },
  {
   "cell_type": "markdown",
   "metadata": {},
   "source": [
    "The chart above compreensively explains that single engine aicrafts seem to have more accidents compared to aircrafts with two engines."
   ]
  },
  {
   "cell_type": "code",
   "execution_count": 45,
   "metadata": {},
   "outputs": [
    {
     "data": {
      "image/png": "[encoded data removed]",
      "text/plain": [
       "<Figure size 720x576 with 1 Axes>"
      ]
     },
     "metadata": {},
     "output_type": "display_data"
    }
   ],
   "source": [
    "fatalities_by_weather = df.groupby('Weather.Condition')['Total.Fatal.Injuries'].sum()\n",
    "\n",
    "# Plotting the pie chart\n",
    "plt.figure(figsize=(10, 8))\n",
    "plt.pie(fatalities_by_weather, \n",
    "        labels=fatalities_by_weather.index, \n",
    "        autopct='%1.1f%%', \n",
    "        startangle=90, \n",
    "        colors=sns.color_palette('Set3', len(fatalities_by_weather)))\n",
    "\n",
    "plt.title('Total Fatal Injuries by Weather Condition')\n",
    "plt.axis('equal')  # Equal aspect ratio ensures that pie chart is circular\n",
    "plt.show()"
   ]
  },
  {
   "cell_type": "code",
   "execution_count": 50,
   "metadata": {},
   "outputs": [
    {
     "data": {
      "image/png": "[encoded data removed]",
      "text/plain": [
       "<Figure size 720x432 with 1 Axes>"
      ]
     },
     "metadata": {
      "needs_background": "light"
     },
     "output_type": "display_data"
    }
   ],
   "source": [
    "subset_data =df.head(50)\n",
    "\n",
    "# Adding the injuries\n",
    "Total_injuries = df['Total.Fatal.Injuries'] + df['Total.Minor.Injuries'] + df['Total.Serious.Injuries']\n",
    "\n",
    "# Plotting the scatter plot\n",
    "plt.figure(figsize=(10, 6))\n",
    "plt.scatter(subset_data['Model'], Total_injuries.head(50), alpha=0.5)\n",
    "plt.xlabel('Model')\n",
    "plt.ylabel('Total Number of Injuries')\n",
    "plt.title('Scatter Plot: Total Number of Injuries vs. Model (First few Entries)')\n",
    "plt.xticks(rotation=90)  # Rotate x-axis labels for readability\n",
    "plt.tight_layout()\n",
    "plt.show()"
   ]
  },
  {
   "cell_type": "markdown",
   "metadata": {},
   "source": []
  }
 ],
 "metadata": {
  "kernelspec": {
   "display_name": "Python (learn-env)",
   "language": "python",
   "name": "learn-env"
  },
  "language_info": {
   "codemirror_mode": {
    "name": "ipython",
    "version": 3
   },
   "file_extension": ".py",
   "mimetype": "text/x-python",
   "name": "python",
   "nbconvert_exporter": "python",
   "pygments_lexer": "ipython3",
   "version": "3.8.5"
  }
 },
 "nbformat": 4,
 "nbformat_minor": 4
}
